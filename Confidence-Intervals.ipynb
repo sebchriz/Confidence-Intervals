{
 "cells": [
  {
   "cell_type": "markdown",
   "metadata": {},
   "source": [
    "#  $\\color{Teal}{\\text{Confidence Interval Calculator}}$"
   ]
  },
  {
   "cell_type": "markdown",
   "metadata": {},
   "source": [
    "### This is an app which calculates confidence intervals for 3 distributions:\n",
    "#### 1.  $\\color{Red}{\\text{Normal}}$\n",
    "#### 2. $\\color{Blue}{\\text{Binomial}}$ \n",
    "#### 3.  $\\color{Green}{\\text{Poisson}}$"
   ]
  },
  {
   "cell_type": "code",
   "execution_count": 2,
   "metadata": {
    "scrolled": false
   },
   "outputs": [],
   "source": [
    "# !pip install ipywidgets"
   ]
  },
  {
   "cell_type": "code",
   "execution_count": 3,
   "metadata": {
    "scrolled": false
   },
   "outputs": [],
   "source": [
    "# !pip install voila"
   ]
  },
  {
   "cell_type": "code",
   "execution_count": 1,
   "metadata": {},
   "outputs": [],
   "source": [
    "from ipywidgets import Label,FloatSlider,FloatText,BoundedIntText,Button,Output,HBox"
   ]
  },
  {
   "cell_type": "code",
   "execution_count": 2,
   "metadata": {},
   "outputs": [],
   "source": [
    "from ipywidgets import VBox"
   ]
  },
  {
   "cell_type": "code",
   "execution_count": 3,
   "metadata": {},
   "outputs": [],
   "source": [
    "import ipywidgets as widget"
   ]
  },
  {
   "cell_type": "code",
   "execution_count": 4,
   "metadata": {},
   "outputs": [],
   "source": [
    "import scipy.stats as stats\n",
    "import numpy as np \n"
   ]
  },
  {
   "cell_type": "code",
   "execution_count": 5,
   "metadata": {},
   "outputs": [],
   "source": [
    "def normal_ci(confidence,x_bar,sigma,n):\n",
    "    z_score=stats.norm.interval(confidence)[1]\n",
    "    sigma_div_root_n = sigma/np.sqrt(n)\n",
    "    ci = [x_bar - z_score*sigma_div_root_n, x_bar+ z_score*sigma_div_root_n]\n",
    "    return ci\n",
    "\n",
    "def binomial_ci(confidence,p_cap,n):\n",
    "    z_score = stats.norm.interval(confidence)[1]\n",
    "    second_part = z_score*np.sqrt((p_cap*(1-p_cap))/n)\n",
    "    ci = [p_cap - second_part, p_cap + second_part]\n",
    "    return ci\n",
    "    \n",
    "def poisson_ci(confidence,lamda,n):\n",
    "    z_score = stats.norm.interval(confidence)[1]\n",
    "    rhs = z_score*np.sqrt(lamda/n)\n",
    "    ci = [lamda - rhs,lamda + rhs]\n",
    "    return ci "
   ]
  },
  {
   "cell_type": "code",
   "execution_count": 4,
   "metadata": {},
   "outputs": [],
   "source": [
    "# x_bar = 175\n",
    "# sigma = 20 \n",
    "# n = 40 \n",
    "# normal_ci(0.95,x_bar,sigma,n)"
   ]
  },
  {
   "cell_type": "code",
   "execution_count": 5,
   "metadata": {},
   "outputs": [],
   "source": [
    "# p_cap = 0.78\n",
    "# n = 32\n",
    "\n",
    "# binomial_ci(0.95,p_cap,n)"
   ]
  },
  {
   "cell_type": "code",
   "execution_count": 10,
   "metadata": {},
   "outputs": [
    {
     "data": {
      "text/plain": [
       "[145.6173872971171, 154.3826127028829]"
      ]
     },
     "execution_count": 10,
     "metadata": {},
     "output_type": "execute_result"
    }
   ],
   "source": [
    "# lamda = 150\n",
    "# n = 30 \n",
    "# poisson_ci(0.95,lamda,n)"
   ]
  },
  {
   "cell_type": "code",
   "execution_count": 6,
   "metadata": {},
   "outputs": [],
   "source": [
    "normal_label = Label('Normal Distribution Confidence')\n",
    "normal_confidence = FloatSlider(description='Confidence:',value=0.95,min=0.5,max=0.99,step=0.01)\n",
    "normal_x_bar = FloatText(value = 50, description='x_bar:' ,min = -100000, max=100000, step=0.01, disabled=False) \n",
    "normal_sigma = FloatText(value= 0,description = 'sigma:',min=0,max=100000,step=0.01,disabled=False)\n",
    "normal_n_input = BoundedIntText(value=0,step=1,min=0,max=100000,description='n:')\n",
    "normal_button = Button(description='Calculate',button_style='danger')\n",
    "normal_output=Output()"
   ]
  },
  {
   "cell_type": "code",
   "execution_count": 7,
   "metadata": {},
   "outputs": [],
   "source": [
    "def normal_button_on_click(b):\n",
    "    ci = normal_ci(normal_confidence.value,normal_x_bar.value,normal_sigma.value,normal_n_input.value)\n",
    "    normal_output.clear_output()\n",
    "    with normal_output:\n",
    "        print('The population mean of Normal Distribution lies between {} and {} with {}% confidence'.format(ci[0],ci[1],100*normal_confidence.value))\n",
    "    "
   ]
  },
  {
   "cell_type": "code",
   "execution_count": 8,
   "metadata": {},
   "outputs": [],
   "source": [
    "normal_button.on_click(normal_button_on_click)\n",
    "vbox_normal = VBox([normal_label, normal_confidence, normal_x_bar, normal_sigma, normal_n_input, normal_button, normal_output])"
   ]
  },
  {
   "cell_type": "code",
   "execution_count": 10,
   "metadata": {
    "scrolled": true
   },
   "outputs": [],
   "source": [
    "# VBox([vbox_normal])"
   ]
  },
  {
   "cell_type": "code",
   "execution_count": 40,
   "metadata": {},
   "outputs": [],
   "source": [
    "Binomial_label = Label('Binomial Distribution')\n",
    "Binomial_confidence = FloatSlider(description='Confidence:',value=0.95, min = 0.5,max=0.99,step=0.01)\n",
    "Binomial_p_cap = FloatText(value=0.78,description='p_cap:',min=0,max=1,step=0.01)\n",
    "Binomial_n_input=FloatText(value=0, description='n:', min = 0, max=100000,step=1)\n",
    "Binomial_button = Button(description='Calculate',button_style='primary')\n",
    "Binomial_output = Output()"
   ]
  },
  {
   "cell_type": "code",
   "execution_count": 36,
   "metadata": {},
   "outputs": [],
   "source": [
    "def binomial_on_click(b):\n",
    "    ci = binomial_ci(Binomial_confidence.value,Binomial_p_cap.value,Binomial_n_input.value)\n",
    "    Binomial_output.clear_output()\n",
    "    with Binomial_output:\n",
    "        print(\"The population mean of Binomial Distribution lies between {} and {} with {}% confidence\".format(ci[0],ci[1],100*Binomial_confidence.value))\n",
    "\n",
    "Binomial_button.on_click(binomial_on_click)\n",
    "vbox_binomial = VBox([Binomial_label,Binomial_confidence,Binomial_p_cap,Binomial_n_input,Binomial_button,Binomial_output])"
   ]
  },
  {
   "cell_type": "code",
   "execution_count": 13,
   "metadata": {
    "scrolled": true
   },
   "outputs": [],
   "source": [
    "# VBox([vbox_normal,vbox_binomial])"
   ]
  },
  {
   "cell_type": "code",
   "execution_count": 37,
   "metadata": {},
   "outputs": [],
   "source": [
    "Poisson_label = Label('Poisson Distribution',)\n",
    "Poisson_confidence = FloatSlider(value=0.95,description='Confidence:',step=0.01,min=0.5,max=0.99)\n",
    "Poisson_lamda = FloatText(value=0,description='Lambda:',min=0,max=100000,step=0.01)\n",
    "Poisson_n_input = FloatText(value=0,description='n:',min=0,max=100000,step=0.01)\n",
    "Poisson_button = Button(description='Calculate', button_style = 'success')\n",
    "Poisson_output = Output()"
   ]
  },
  {
   "cell_type": "code",
   "execution_count": 15,
   "metadata": {},
   "outputs": [],
   "source": [
    "def poisson_on_click(b):\n",
    "    ci = poisson_ci(Poisson_confidence.value,Poisson_lamda.value,Poisson_n_input.value)\n",
    "    Poisson_output.clear_output()\n",
    "    with Poisson_output:\n",
    "        print('Population Mean of Poisson Distribution lies between {} and {} and with {}% confidence'.format(ci[0],ci[1],100*Poisson_confidence.value))\n",
    "Poisson_button.on_click(poisson_on_click)\n",
    "vbox_poisson = VBox([Poisson_label,Poisson_confidence,Poisson_lamda,Poisson_n_input,Poisson_button,Poisson_output])"
   ]
  },
  {
   "cell_type": "code",
   "execution_count": 39,
   "metadata": {
    "scrolled": false
   },
   "outputs": [
    {
     "data": {
      "application/vnd.jupyter.widget-view+json": {
       "model_id": "2c7abdf0ae9647fcbc33852a6234437c",
       "version_major": 2,
       "version_minor": 0
      },
      "text/plain": [
       "VBox(children=(VBox(children=(Label(value='Normal Distribution Confidence'), FloatSlider(value=0.95, descripti…"
      ]
     },
     "metadata": {},
     "output_type": "display_data"
    }
   ],
   "source": [
    "VBox([vbox_normal,vbox_binomial,vbox_poisson])"
   ]
  }
 ],
 "metadata": {
  "kernelspec": {
   "display_name": "Python 3",
   "language": "python",
   "name": "python3"
  },
  "language_info": {
   "codemirror_mode": {
    "name": "ipython",
    "version": 3
   },
   "file_extension": ".py",
   "mimetype": "text/x-python",
   "name": "python",
   "nbconvert_exporter": "python",
   "pygments_lexer": "ipython3",
   "version": "3.8.5"
  }
 },
 "nbformat": 4,
 "nbformat_minor": 4
}
